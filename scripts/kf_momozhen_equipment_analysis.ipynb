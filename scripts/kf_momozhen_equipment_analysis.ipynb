{
 "cells": [
  {
   "cell_type": "code",
   "execution_count": 1,
   "metadata": {},
   "outputs": [],
   "source": [
    "import os\n",
    "import pickle\n",
    "import re\n",
    "\n",
    "from collections import defaultdict\n",
    "\n",
    "import pandas as pd\n",
    "import matplotlib.pyplot as plt"
   ]
  },
  {
   "cell_type": "markdown",
   "metadata": {},
   "source": [
    "### 全局变量"
   ]
  },
  {
   "cell_type": "code",
   "execution_count": 2,
   "metadata": {},
   "outputs": [],
   "source": [
    "START_YEAR = 2024\n",
    "START_MONTH = 4\n",
    "END_YEAR = 2024\n",
    "END_MONTH = 4\n",
    "DATA_FOLDER_PATH = '..\\data'\n"
   ]
  },
  {
   "cell_type": "code",
   "execution_count": 3,
   "metadata": {},
   "outputs": [],
   "source": [
    "# 设置 Matplotlib 的字体\n",
    "plt.rcParams['font.family'] = 'SimHei'  # 设置字体为 SimHei\n",
    "plt.rcParams['axes.unicode_minus'] = False  # 正确显示负号\n"
   ]
  },
  {
   "cell_type": "markdown",
   "metadata": {},
   "source": [
    "### File I/O"
   ]
  },
  {
   "cell_type": "code",
   "execution_count": 4,
   "metadata": {},
   "outputs": [],
   "source": [
    "def unpickle(file):\n",
    "    \"\"\"\n",
    "    Unpickle file\n",
    "    :param file: file path\n",
    "\n",
    "    :return: dict\n",
    "    \"\"\"\n",
    "    if not os.path.exists(file):\n",
    "        return {}\n",
    "    with open(file, 'rb') as fo:\n",
    "        dict = pickle.load(fo, encoding='bytes')\n",
    "    return dict"
   ]
  },
  {
   "cell_type": "code",
   "execution_count": 5,
   "metadata": {},
   "outputs": [],
   "source": [
    "def load_and_merge_data(start_year, start_month, end_year, end_month):\n",
    "    \"\"\"\n",
    "    Load and merge equity data from specified period into a single DataFrame.\n",
    "\n",
    "    :param start_year: int, start year\n",
    "    :param start_month: int, start month\n",
    "    :param end_year: int, end year\n",
    "    :param end_month: int, end month\n",
    "\n",
    "    :return: DataFrame\n",
    "    \"\"\"\n",
    "    all_equity_data = []\n",
    "    for year in range(start_year, end_year + 1):\n",
    "        for month in range(start_month, end_month + 1):\n",
    "            # 构建文件名\n",
    "            filename = f\"momozhen_{year}_{month}.pkl\"\n",
    "            file_path = os.path.join(DATA_FOLDER_PATH, filename)\n",
    "            data = unpickle(file_path)\n",
    "            if data and \"equity_data\" in data:\n",
    "                all_equity_data.extend(data[\"equity_data\"])\n",
    "\n",
    "    # 合并所有股权数据到一个 DataFrame\n",
    "    if all_equity_data:\n",
    "        return pd.DataFrame(all_equity_data)\n",
    "    else:\n",
    "        return pd.DataFrame()\n",
    "    "
   ]
  },
  {
   "cell_type": "markdown",
   "metadata": {},
   "source": [
    "### Helper functions"
   ]
  },
  {
   "cell_type": "code",
   "execution_count": 6,
   "metadata": {},
   "outputs": [],
   "source": [
    "def plot_attribute_percentages(percentages, attribute_name):\n",
    "    \"\"\"\n",
    "    显示给定属性的百分比值的频率图\n",
    "    \"\"\"\n",
    "    if attribute_name not in percentages:\n",
    "        print(f\"No data available for {attribute_name}\")\n",
    "        return\n",
    "    data = percentages[attribute_name]\n",
    "    x = list(data.keys())\n",
    "    y = list(data.values())\n",
    "\n",
    "    # 计算最小和最大百分比值\n",
    "    min_percentage = min(x)\n",
    "    max_percentage = max(x)\n",
    "\n",
    "    plt.figure(figsize=(10, 6))\n",
    "    plt.hist(x, bins=range(min_percentage, max_percentage+1), weights=y, color='skyblue') # 属性正常范围应该为 50 - 150%\n",
    "    plt.xlabel('Percentage')\n",
    "    plt.ylabel('Frequency')\n",
    "    plt.title(f'{attribute_name} ({min_percentage} - {max_percentage}%)')\n",
    "    plt.grid(axis='y')\n",
    "    plt.show()"
   ]
  },
  {
   "cell_type": "code",
   "execution_count": 7,
   "metadata": {},
   "outputs": [],
   "source": [
    "def plot_attribute_percentages_all(percentages):\n",
    "    \"\"\"\n",
    "    将所有属性的加成百分比转换为一张百分比频率图\n",
    "    \"\"\"\n",
    "    data = defaultdict(int)\n",
    "    for attribute_name, attribute_data in percentages.items():\n",
    "        for percentage, count in attribute_data.items():\n",
    "            data[percentage] += count\n",
    "\n",
    "    x = list(data.keys())\n",
    "    y = list(data.values())\n",
    "\n",
    "    min_percentage = min(x)\n",
    "    max_percentage = max(x)\n",
    "\n",
    "    plt.figure(figsize=(10, 6))\n",
    "    plt.hist(x, bins=range(min_percentage, max_percentage+1), weights=y, color='skyblue') # 属性正常范围应该为 50 - 150%\n",
    "    plt.xlabel('Percentage')\n",
    "    plt.ylabel('Frequency')\n",
    "    plt.title(f'All attributes ({min_percentage} - {max_percentage}%)')\n",
    "    plt.grid(axis='y')\n",
    "    plt.show()"
   ]
  },
  {
   "cell_type": "code",
   "execution_count": 8,
   "metadata": {},
   "outputs": [],
   "source": [
    "def plot_total_percentage(df):\n",
    "    \"\"\"\n",
    "    显示 装备 的 `total_percentage` 的频率图 (histogram)\n",
    "\n",
    "    :param df: DataFrame\n",
    "    \"\"\"\n",
    "    x = df['total_percentage']\n",
    "    min_percentage = int(x.min())\n",
    "    max_percentage = int(x.max())\n",
    "\n",
    "    plt.figure(figsize=(10, 6))\n",
    "    plt.hist(x, bins=range(min_percentage, max_percentage+1), color='skyblue') # total_percentage 正常范围应该为 200 - 700%\n",
    "    plt.xlabel('总属性')\n",
    "    plt.ylabel('Frequency')\n",
    "    plt.title(f'属性合计 ({min_percentage} - {max_percentage})')\n",
    "    plt.grid(axis='y')\n",
    "    plt.show()\n"
   ]
  },
  {
   "cell_type": "code",
   "execution_count": 9,
   "metadata": {},
   "outputs": [],
   "source": [
    "def plot_level(df):\n",
    "    \"\"\"\n",
    "    显示 装备 等级的频率图 (histogram)\n",
    "\n",
    "    :param df: DataFrame\n",
    "    \"\"\"\n",
    "    x = df['level']\n",
    "\n",
    "    min_level = int(x.min())\n",
    "    max_level = int(x.max())\n",
    "\n",
    "    plt.figure(figsize=(10, 6))\n",
    "    plt.hist(x, bins=range(min_level, max_level+1), color='skyblue')\n",
    "    plt.xlabel('Level')\n",
    "    plt.ylabel('Frequency')\n",
    "    plt.title(f'等级分布 ({min_level} - {max_level})')\n",
    "    plt.grid(axis='y')\n",
    "    plt.show()"
   ]
  },
  {
   "cell_type": "code",
   "execution_count": 10,
   "metadata": {},
   "outputs": [],
   "source": [
    "def print_missing_total_percentage(df, num_initial_missing, num_final_missing):\n",
    "    \"\"\"\n",
    "    打印 装备 的 `total_percentage` 缺失的数值\n",
    "    \"\"\"\n",
    "    # 计算最小值和最大值\n",
    "    min_percentage = df['total_percentage'].min()\n",
    "    max_percentage = df['total_percentage'].max()\n",
    "\n",
    "    # 生成完整的整数序列\n",
    "    full_range = set(range(min_percentage, max_percentage + 1))\n",
    "\n",
    "    # 找出缺失的数字\n",
    "    missing_numbers = list(full_range - set(df['total_percentage']))\n",
    "\n",
    "    # 对缺失的数字进行排序\n",
    "    missing_numbers.sort()\n",
    "\n",
    "    if num_initial_missing > 0:\n",
    "        # 打印前 num_initial_missing 个缺失的值\n",
    "        print(f\"前 {num_initial_missing} 个缺失的值:\")\n",
    "        if len(missing_numbers) > 0:\n",
    "            print(missing_numbers[0], \"// + 0\")  # 第一个缺失值\n",
    "            for i in range(1, min(num_initial_missing, len(missing_numbers))):\n",
    "                print(missing_numbers[i], \"// +\", missing_numbers[i] - missing_numbers[i-1])\n",
    "\n",
    "    if num_final_missing > 0:\n",
    "        # 打印后 num_final_missing 个缺失的值\n",
    "        print(f\"\\n后 {num_final_missing} 个缺失的值:\")\n",
    "        if len(missing_numbers) > 0:\n",
    "            start_index = max(0, len(missing_numbers) - num_final_missing)\n",
    "            for i in range(start_index, len(missing_numbers)):\n",
    "                if i == start_index:\n",
    "                    print(missing_numbers[i], \"// + 0\")  # 为了格式对齐，标记为+0\n",
    "                else:\n",
    "                    print(missing_numbers[i], \"// +\", missing_numbers[i] - missing_numbers[i-1])\n"
   ]
  },
  {
   "cell_type": "markdown",
   "metadata": {},
   "source": [
    "### 数据分析"
   ]
  },
  {
   "cell_type": "code",
   "execution_count": 11,
   "metadata": {},
   "outputs": [],
   "source": [
    "# 使用函数加载和合并数据\n",
    "df = load_and_merge_data(START_YEAR, START_MONTH, END_YEAR, END_MONTH)"
   ]
  },
  {
   "cell_type": "code",
   "execution_count": 12,
   "metadata": {},
   "outputs": [],
   "source": [
    "# 为 df 添加 df['mysterious'] 列, 依照 attributes list 中只要一项存在字符 '神秘属性'\n",
    "df['mysterious'] = df['attributes'].apply(lambda x: any('神秘属性' in s for s in x))"
   ]
  },
  {
   "cell_type": "code",
   "execution_count": 13,
   "metadata": {},
   "outputs": [],
   "source": [
    "# 从 attributes 中提取每项属性的加成百分比 (先检查是否存在 '神秘属性' 词条, 如果存在则不提取, 单独统计出现次数)\n",
    "mysterious_count = 0\n",
    "attr_perc_dict = defaultdict(lambda: defaultdict(int))\n",
    "\n",
    "attribute_pattern = re.compile(r'([^\\[]+)\\s+\\+(\\d+\\.?\\d*)\\s+\\((\\d+)%\\)')\n"
   ]
  },
  {
   "cell_type": "code",
   "execution_count": 14,
   "metadata": {},
   "outputs": [],
   "source": [
    "for attributes in df['attributes']:\n",
    "\tfor attribute in attributes:\n",
    "\t\tif '神秘属性' in attribute:\n",
    "\t\t\tmysterious_count += 1\n",
    "\t\telse:\n",
    "\t\t\tmatch = attribute_pattern.match(attribute)\n",
    "\t\t\tif match:\n",
    "\t\t\t\tattr_name = match.group(1).strip()\n",
    "\t\t\t\tpercent = int(match.group(3))\n",
    "\t\t\t\tattr_perc_dict[attr_name][percent] += 1"
   ]
  },
  {
   "cell_type": "code",
   "execution_count": 15,
   "metadata": {},
   "outputs": [
    {
     "name": "stdout",
     "output_type": "stream",
     "text": [
      "神秘属性出现次数: 6\n"
     ]
    }
   ],
   "source": [
    "print(f\"神秘属性出现次数: {mysterious_count}\")"
   ]
  },
  {
   "cell_type": "code",
   "execution_count": null,
   "metadata": {},
   "outputs": [],
   "source": [
    "plot_attribute_percentages(attr_perc_dict, '附加物防')"
   ]
  },
  {
   "cell_type": "code",
   "execution_count": null,
   "metadata": {},
   "outputs": [],
   "source": [
    "plot_attribute_percentages_all(attr_perc_dict)"
   ]
  },
  {
   "cell_type": "code",
   "execution_count": 16,
   "metadata": {},
   "outputs": [
    {
     "data": {
      "image/png": "[encoded data removed]",
      "text/plain": [
       "<Figure size 1000x600 with 1 Axes>"
      ]
     },
     "metadata": {},
     "output_type": "display_data"
    }
   ],
   "source": [
    "plot_total_percentage(df)\n"
   ]
  },
  {
   "cell_type": "code",
   "execution_count": 17,
   "metadata": {},
   "outputs": [
    {
     "name": "stdout",
     "output_type": "stream",
     "text": [
      "前 10 个缺失的值:\n",
      "278 // + 0\n",
      "282 // + 4\n",
      "285 // + 3\n",
      "289 // + 4\n",
      "292 // + 3\n",
      "296 // + 4\n",
      "299 // + 3\n",
      "303 // + 4\n",
      "307 // + 4\n",
      "310 // + 3\n"
     ]
    }
   ],
   "source": [
    "num_initial_missing = 10\n",
    "num_final_missing = 0\n",
    "\n",
    "print_missing_total_percentage(df, num_initial_missing, num_final_missing)\n"
   ]
  },
  {
   "cell_type": "code",
   "execution_count": null,
   "metadata": {},
   "outputs": [],
   "source": [
    "plot_level(df)\n"
   ]
  },
  {
   "cell_type": "code",
   "execution_count": null,
   "metadata": {},
   "outputs": [],
   "source": [
    "# 将装备按照有无神秘分成两堆\n",
    "mysterious_df = df[df['mysterious'] == True]\n",
    "non_mysterious_df = df[df['mysterious'] == False]"
   ]
  }
 ],
 "metadata": {
  "kernelspec": {
   "display_name": "Python 3",
   "language": "python",
   "name": "python3"
  },
  "language_info": {
   "codemirror_mode": {
    "name": "ipython",
    "version": 3
   },
   "file_extension": ".py",
   "mimetype": "text/x-python",
   "name": "python",
   "nbconvert_exporter": "python",
   "pygments_lexer": "ipython3",
   "version": "3.11.8"
  }
 },
 "nbformat": 4,
 "nbformat_minor": 2
}

{
 "cells": [
  {
   "cell_type": "code",
   "execution_count": 1,
   "metadata": {},
   "outputs": [],
   "source": [
    "# import"
   ]
  },
  {
   "cell_type": "markdown",
   "metadata": {},
   "source": [
    "计算函数"
   ]
  },
  {
   "cell_type": "code",
   "execution_count": 2,
   "metadata": {},
   "outputs": [],
   "source": [
    "def calculate_growth_steps(current_aura, target_aura):\n",
    "    steps = 0\n",
    "    while current_aura < target_aura:\n",
    "        growth_rate = max((280 - current_aura) / 100, 0.02)\n",
    "        current_aura = round(current_aura + growth_rate, 2)\n",
    "        steps += 1\n",
    "    return steps\n",
    "\n",
    "def aura_after_x_steps(current_aura, steps):\n",
    "    for _ in range(steps):\n",
    "        growth_rate = max((280 - current_aura) / 100, 0.02)\n",
    "        current_aura = round(current_aura + growth_rate, 2)\n",
    "    return current_aura\n"
   ]
  },
  {
   "cell_type": "code",
   "execution_count": 3,
   "metadata": {},
   "outputs": [],
   "source": [
    "# 当前 天赋光环 数值\n",
    "current_aura = 0.00"
   ]
  },
  {
   "cell_type": "code",
   "execution_count": 4,
   "metadata": {},
   "outputs": [
    {
     "name": "stdout",
     "output_type": "stream",
     "text": [
      "Steps to reach 270%: 332\n",
      "Steps to reach 280%: 594\n"
     ]
    }
   ],
   "source": [
    "# 计算到 270% 需要的步数\n",
    "steps_to_270 = calculate_growth_steps(current_aura, 270)\n",
    "print(f\"Steps to reach 270%: {steps_to_270}\")\n",
    "\n",
    "# 计算到 280% 需要的步数\n",
    "steps_to_280 = calculate_growth_steps(current_aura, 280)\n",
    "print(f\"Steps to reach 280%: {steps_to_280}\")\n"
   ]
  },
  {
   "cell_type": "code",
   "execution_count": 5,
   "metadata": {},
   "outputs": [
    {
     "name": "stdout",
     "output_type": "stream",
     "text": [
      "Aura after 1 step: 2.8\n",
      "Aura after 2 steps: 5.57\n"
     ]
    }
   ],
   "source": [
    "# 计算 1 步后的数值\n",
    "aura_after_1_step = aura_after_x_steps(current_aura, 1)\n",
    "print(f\"Aura after 1 step: {aura_after_1_step}\")\n",
    "\n",
    "# 计算 2 步后的数值\n",
    "aura_after_2_steps = aura_after_x_steps(current_aura, 2)\n",
    "print(f\"Aura after 2 steps: {aura_after_2_steps}\")"
   ]
  }
 ],
 "metadata": {
  "kernelspec": {
   "display_name": "Python 3",
   "language": "python",
   "name": "python3"
  },
  "language_info": {
   "codemirror_mode": {
    "name": "ipython",
    "version": 3
   },
   "file_extension": ".py",
   "mimetype": "text/x-python",
   "name": "python",
   "nbconvert_exporter": "python",
   "pygments_lexer": "ipython3",
   "version": "3.11.8"
  }
 },
 "nbformat": 4,
 "nbformat_minor": 2
}
